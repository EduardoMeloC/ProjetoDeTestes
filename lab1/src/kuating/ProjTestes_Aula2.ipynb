{
  "nbformat": 4,
  "nbformat_minor": 0,
  "metadata": {
    "colab": {
      "provenance": []
    },
    "kernelspec": {
      "name": "python3",
      "display_name": "Python 3"
    },
    "language_info": {
      "name": "python"
    }
  },
  "cells": [
    {
      "cell_type": "code",
      "execution_count": null,
      "metadata": {
        "id": "k9EqExqhiIip"
      },
      "outputs": [],
      "source": [
        "def TipoTriangulo1(a,b,c):\n",
        "\n",
        "    if (a <= 0 or b <= 0 or c <= 0):\n",
        "        return \"invalido\"\n",
        "    \n",
        "\t\t\n",
        "    if (a+b >= c and a+c >= b and b+c >= a):\n",
        "        if (a==b and b == c):\n",
        "            return \"equilatero\"\n",
        "        if (a==b or a==c or b==c):\n",
        "            return \"isosceles\"\n",
        "        return \"escaleno\"\n",
        "    return \"invalido\"\n",
        "    \n",
        "def TipoTriangulo2(a,b,c):\n",
        "\n",
        "    if (a <= 0 or b <= 0 or c <= 0):\n",
        "        return \"invalido\"\n",
        "    \n",
        "\t\t\n",
        "    if (a+b > c and a+c > b and b+c >= a):\n",
        "        if (a==b and b == c):\n",
        "            return \"equilatero\"\n",
        "        if (a==b or a==c or b==c):\n",
        "            return \"isosceles\"\n",
        "        return \"escaleno\"\n",
        "    return \"invalido\"\n",
        "    \n",
        "def TipoTriangulo3(a,b,c):\n",
        "\n",
        "    if (a <= 0 or b <= 0 or c < 0):\n",
        "        return \"invalido\"\n",
        "    \n",
        "\t\t\n",
        "    if (a+b > c and a+c > b and b+c > a):\n",
        "        if (a==b and b == c):\n",
        "            return \"equilatero\"\n",
        "        if (a==b or a==c or b==c):\n",
        "            return \"isosceles\"\n",
        "        return \"escaleno\"\n",
        "    return \"invalido\""
      ]
    },
    {
      "cell_type": "code",
      "source": [
        "def run_test(case,triangle_type):\n",
        "    #assert triangle_type(case[0],case[1],case[2])==case[3]\n",
        "    return (triangle_type(case[0],case[1],case[2]))"
      ],
      "metadata": {
        "id": "8hxh_k9AiNLG"
      },
      "execution_count": null,
      "outputs": []
    },
    {
      "cell_type": "code",
      "source": [
        "triangle_types = [TipoTriangulo1,\n",
        "                  TipoTriangulo2,\n",
        "                  TipoTriangulo3]"
      ],
      "metadata": {
        "id": "S7ZCpdB5iVw6"
      },
      "execution_count": null,
      "outputs": []
    },
    {
      "cell_type": "code",
      "source": [
        "test_cases = [{\"i\":[1,1,1],\"o\":\"equilatero\"},\n",
        "              {\"i\":[1,1,2],\"o\":\"invalido\"},\n",
        "              {\"i\":[3,3,2],\"o\":\"isosceles\"},\n",
        "              {\"i\":[2,3,3],\"o\":\"isosceles\"},\n",
        "              {\"i\":[3,2,3],\"o\":\"isosceles\"},\n",
        "              {\"i\":[2,4,5],\"o\":\"escaleno\"},\n",
        "              {\"i\":[4,2,5],\"o\":\"escaleno\"},\n",
        "              {\"i\":[5,2,4],\"o\":\"escaleno\"},\n",
        "              {\"i\":[5,4,2],\"o\":\"escaleno\"},\n",
        "              {\"i\":[2,5,4],\"o\":\"escaleno\"},\n",
        "              {\"i\":[4,5,2],\"o\":\"escaleno\"},\n",
        "              {\"i\":[0,1,2],\"o\":\"invalido\"},\n",
        "              {\"i\":[-2,4,5],\"o\":\"invalido\"}]"
      ],
      "metadata": {
        "id": "u12Awm6ZiQCe"
      },
      "execution_count": null,
      "outputs": []
    },
    {
      "cell_type": "code",
      "source": [
        "for n_case,case in enumerate(test_cases):\n",
        "    for n_triang,triangle in enumerate(triangle_types):\n",
        "        result = run_test(case[\"i\"],triangle)\n",
        "        if(not (result==case[\"o\"])):\n",
        "            print(f\"Error in test {n_case+1} with triangle type {n_triang+1}, got\",result,\"and expected\",case[\"o\"])"
      ],
      "metadata": {
        "colab": {
          "base_uri": "https://localhost:8080/"
        },
        "id": "jn6SVRI2iS42",
        "outputId": "bf5e9d38-b2b9-4174-94b0-c91273988df7"
      },
      "execution_count": null,
      "outputs": [
        {
          "output_type": "stream",
          "name": "stdout",
          "text": [
            "Error in test 2 with triangle type 1, got isosceles and expected invalido\n"
          ]
        }
      ]
    }
  ]
}