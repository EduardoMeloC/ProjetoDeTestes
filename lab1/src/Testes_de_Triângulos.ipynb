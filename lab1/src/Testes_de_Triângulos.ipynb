{
  "cells": [
    {
      "attachments": {},
      "cell_type": "markdown",
      "metadata": {},
      "source": [
        "# Projeto de Testes - Testes de Triângulos\n",
        "\n",
        "Eduardo Dias de Melo Catarina\n",
        "\n",
        "Matheus Fernandes\n",
        "\n",
        "Rafael de Aguiar Ferreira"
      ]
    },
    {
      "attachments": {},
      "cell_type": "markdown",
      "metadata": {},
      "source": [
        "Durante a primeira atividade de aula, nós pensamos nos seguintes casos de testes, com suas entradas e saídas esperadas: \n",
        "\n",
        "- 1,1,1 - equilátero\n",
        "- 1,1,2 - inválido\n",
        "- 3,3,2 - isósceles\n",
        "- 2,3,3 - isósceles\n",
        "- 3,2,3 - isósceles\n",
        "- 2,4,5 - escaleno\n",
        "- 2,5,4 - escaleno\n",
        "- 4,2,5 - escaleno\n",
        "- 4,5,2 - escaleno\n",
        "- 5,2,4 - escaleno\n",
        "- 5,4,2 - escaleno\n",
        "- -2,4,5 - inválido\n",
        "- 0,1,2 - inválido"
      ]
    },
    {
      "cell_type": "markdown",
      "metadata": {},
      "source": [
        "Entretanto, apesar de abranger bastantes casos, os testes que projetamos ainda não são o suficientes para concluir a ausência de falhas nos programas fornecidos pois não trata todos os casos possível. Não a toa que nos testes que executamos com os casos que projetamos, eles não foram o suficiente para apontar problemas nos programas 2 e 3.\n",
        "\n",
        "Entendemos que os seguintes casos de testes faltaram:\n",
        "\n",
        "- 1,2,1 - inválido\n",
        "- 2,1,1 - inválido\n",
        "- 2,3,9 - inválido\n",
        "- 2,9,3 - inválido\n",
        "- 3,2,9 - inválido \n",
        "- 3,9,2 - inválido\n",
        "- 9,2,3 - inválido\n",
        "- 9,3,2 - inválido \n",
        "- 0,0,0 - inválido \n",
        "- 2.5,3.5,5.5 - escaleno\n",
        "- 2,1 - inválido"
      ]
    },
    {
      "attachments": {},
      "cell_type": "markdown",
      "metadata": {},
      "source": [
        "Na segunda atividade, foi proposto a nós fazer uma análise a mão e em conjunto do programa do exercício e depois desenvolver uma \"mini automação\" que fazia o mesmo trabalho, para comparar a quantidade de esforço nas duas situações. Nosso grupo acabou tendo um engano e entendeu errado a atividade de análise manual, nós copiamos e colamos várias vezes a chamada da função dos triângulos, mudamos os parâmetros para os testes que projetamos, executamos e observamos no próprio console como os testes executavam, sem registrar nada. Percebemos que nas funções 2 e 3 os testes estavam executando todos corretamente conforme as saídas esperadas, somente na função que obtivemos uma falha no teste 2, onde ele retornava que o triângulo era isósceles mas na verdade ele era inválido. Essa taxa de sucesso se deu muito provavelmente por conta dos testes que projetamos, que não abrangia todas as situações. "
      ]
    },
    {
      "attachments": {},
      "cell_type": "markdown",
      "metadata": {},
      "source": [
        "Na parte de automação do atividade, resolvemos abordar da seguinte de forma: cada um pensaria na sua própria solução e, no final, juntaríamos todas as particularidades que cada um fez em seu programa. No final, projetamos uma automação que exibe o teste que foi executado, se teve sucesso ou falha, sendo que no caso de falha mostra tanto a saída obtida quanto a saída esperada e, por fim, o total de testes executados e a quantidade de sucessos.\n",
        "\n",
        "Neste notebook, é possível verificar a nossa solução mesclada, e, no repositório, é possível verificar cada uma das nossas soluções individuais.\n",
        "\n",
        "Nesta solução final, estamos executando os testes que pensamos em aula e os testes que faltaram - com a exceção do caso de testes \"(2, 1) - invalido\", porque lançaria um TypeError em python."
      ]
    },
    {
      "cell_type": "code",
      "execution_count": 6,
      "metadata": {
        "id": "TOvzzVWFaI0P"
      },
      "outputs": [],
      "source": [
        "class TrianguloDefeituoso1:\n",
        "  def TipoTriangulo(a,b,c):\n",
        "      if (a <= 0 or b <= 0 or c <= 0):\n",
        "          return \"invalido\"\n",
        "      \n",
        "      \n",
        "      if (a+b >= c and a+c >= b and b+c >= a):\n",
        "          if (a==b and b == c):\n",
        "              return \"equilatero\"\n",
        "          if (a==b or a==c or b==c):\n",
        "              return \"isosceles\"\n",
        "          return \"escaleno\"\n",
        "      return \"invalido\"\n"
      ]
    },
    {
      "cell_type": "code",
      "execution_count": 7,
      "metadata": {
        "id": "5i01gY4RaYQn"
      },
      "outputs": [],
      "source": [
        "class TrianguloDefeituoso2:\n",
        "  def TipoTriangulo(a,b,c):\n",
        "    if (a <= 0 or b <= 0 or c <= 0):\n",
        "        return \"invalido\"\n",
        "    \n",
        "    \n",
        "    if (a+b > c and a+c > b and b+c >= a):\n",
        "        if (a==b and b == c):\n",
        "            return \"equilatero\"\n",
        "        if (a==b or a==c or b==c):\n",
        "            return \"isosceles\"\n",
        "        return \"escaleno\"\n",
        "    return \"invalido\""
      ]
    },
    {
      "cell_type": "code",
      "execution_count": 8,
      "metadata": {
        "id": "BfazVEm3ak3T"
      },
      "outputs": [],
      "source": [
        "class TrianguloDefeituoso3:\n",
        "  def TipoTriangulo(a,b,c):\n",
        "    if (a <= 0 or b <= 0 or c < 0):\n",
        "        return \"invalido\"   \n",
        "    if (a+b > c and a+c > b and b+c > a):\n",
        "        if (a==b and b == c):\n",
        "            return \"equilatero\"\n",
        "        if (a==b or a==c or b==c):\n",
        "            return \"isosceles\"\n",
        "        return \"escaleno\"\n",
        "    return \"invalido\""
      ]
    },
    {
      "cell_type": "code",
      "execution_count": 9,
      "metadata": {
        "id": "h8CwvYRBapQ3"
      },
      "outputs": [],
      "source": [
        "equilatero = \"equilatero\"\n",
        "isosceles = \"isosceles\"\n",
        "escaleno = \"escaleno\"\n",
        "invalido = \"invalido\""
      ]
    },
    {
      "cell_type": "code",
      "execution_count": 52,
      "metadata": {
        "id": "SMsNVCY8f9kH"
      },
      "outputs": [],
      "source": [
        "testes_de_aula = [\n",
        "  { \"entrada\": [1, 1, 1], \"saida\": equilatero },\n",
        "  { \"entrada\": [1, 1, 2], \"saida\": invalido },\n",
        "  { \"entrada\": [3, 3, 2], \"saida\": isosceles },\n",
        "  { \"entrada\": [2, 3, 3], \"saida\": isosceles },\n",
        "  { \"entrada\": [3, 2, 3], \"saida\": isosceles },\n",
        "  { \"entrada\": [2, 4, 5], \"saida\": escaleno },\n",
        "  { \"entrada\": [4, 2, 5], \"saida\": escaleno },\n",
        "  { \"entrada\": [5, 2, 4], \"saida\": escaleno },\n",
        "  { \"entrada\": [5, 4, 2], \"saida\": escaleno },\n",
        "  { \"entrada\": [2, 5, 4], \"saida\": escaleno },\n",
        "  { \"entrada\": [4, 5, 2], \"saida\": escaleno },\n",
        "  { \"entrada\": [0, 1, 2], \"saida\": invalido },\n",
        "  { \"entrada\": [-2, 4, 5], \"saida\": invalido },\n",
        "]\n",
        "    \n",
        "testes_que_faltam = [\n",
        "  { \"entrada\": [1, 2, 1], \"saida\": invalido },\n",
        "  { \"entrada\": [2, 1, 1], \"saida\": invalido },\n",
        "  { \"entrada\": [2, 3, 9], \"saida\": invalido },\n",
        "  { \"entrada\": [2, 9, 3], \"saida\": invalido },\n",
        "  { \"entrada\": [3, 9, 2], \"saida\": invalido },\n",
        "  { \"entrada\": [9, 2, 3], \"saida\": invalido },\n",
        "  { \"entrada\": [9, 3, 2], \"saida\": invalido },\n",
        "  { \"entrada\": [0, 0, 0], \"saida\": invalido },\n",
        "  { \"entrada\": [2.5, 3.5, 5.5], \"saida\": escaleno },\n",
        "  # { \"entrada\": [2, 1], \"saida\": invalido }, # Removido porque lança um TypeError\n",
        "]\n",
        "\n",
        "todos_testes = [*testes_de_aula, *testes_que_faltam]"
      ]
    },
    {
      "cell_type": "code",
      "execution_count": 53,
      "metadata": {
        "id": "EofBmJzhhh9_"
      },
      "outputs": [],
      "source": [
        "def testar(f, testes):\n",
        "  contagem_de_testes_que_passam = 0\n",
        "  for i, teste in enumerate(testes):\n",
        "    entrada = teste[\"entrada\"]\n",
        "    saida_esperada = teste[\"saida\"]\n",
        "    saida_obtida = f(*teste[\"entrada\"])\n",
        "    passa_no_teste = (saida_obtida == teste[\"saida\"])\n",
        "    contagem_de_testes_que_passam = contagem_de_testes_que_passam + (passa_no_teste and 1 or 0)\n",
        "    emoji = passa_no_teste and \"✅\" or \"❌\"\n",
        "    string_saida_obtida = (passa_no_teste == True) and \" \" or f\"\\t | saída esperada: \\'{saida_esperada}\\' | saída obtida: \\'{saida_obtida}\\'\"\n",
        "    print(f\"{emoji} Teste {i+1}: {entrada} == {saida_esperada}\" + string_saida_obtida )\n",
        "  print(f\"\\n📝 {contagem_de_testes_que_passam}/{len(testes)} testes passam com sucesso.\")"
      ]
    },
    {
      "cell_type": "code",
      "execution_count": 57,
      "metadata": {
        "colab": {
          "base_uri": "https://localhost:8080/"
        },
        "id": "yLDuL1pgiTDg",
        "outputId": "20c987b3-b067-460f-9628-96ba2c7cdb84"
      },
      "outputs": [
        {
          "name": "stdout",
          "output_type": "stream",
          "text": [
            "TrianguloDefeituoso1 - Todos os Testes\n",
            "\n",
            "✅ Teste 1: [1, 1, 1] == equilatero \n",
            "❌ Teste 2: [1, 1, 2] == invalido\t | saída esperada: 'invalido' | saída obtida: 'isosceles'\n",
            "✅ Teste 3: [3, 3, 2] == isosceles \n",
            "✅ Teste 4: [2, 3, 3] == isosceles \n",
            "✅ Teste 5: [3, 2, 3] == isosceles \n",
            "✅ Teste 6: [2, 4, 5] == escaleno \n",
            "✅ Teste 7: [4, 2, 5] == escaleno \n",
            "✅ Teste 8: [5, 2, 4] == escaleno \n",
            "✅ Teste 9: [5, 4, 2] == escaleno \n",
            "✅ Teste 10: [2, 5, 4] == escaleno \n",
            "✅ Teste 11: [4, 5, 2] == escaleno \n",
            "✅ Teste 12: [0, 1, 2] == invalido \n",
            "✅ Teste 13: [-2, 4, 5] == invalido \n",
            "❌ Teste 14: [1, 2, 1] == invalido\t | saída esperada: 'invalido' | saída obtida: 'isosceles'\n",
            "❌ Teste 15: [2, 1, 1] == invalido\t | saída esperada: 'invalido' | saída obtida: 'isosceles'\n",
            "✅ Teste 16: [2, 3, 9] == invalido \n",
            "✅ Teste 17: [2, 9, 3] == invalido \n",
            "✅ Teste 18: [3, 9, 2] == invalido \n",
            "✅ Teste 19: [9, 2, 3] == invalido \n",
            "✅ Teste 20: [9, 3, 2] == invalido \n",
            "✅ Teste 21: [0, 0, 0] == invalido \n",
            "✅ Teste 22: [2.5, 3.5, 5.5] == escaleno \n",
            "\n",
            "📝 19/22 testes passam com sucesso.\n"
          ]
        }
      ],
      "source": [
        "print(\"TrianguloDefeituoso1 - Todos os Testes\\n\")\n",
        "testar(TrianguloDefeituoso1.TipoTriangulo, todos_testes)"
      ]
    },
    {
      "cell_type": "code",
      "execution_count": 58,
      "metadata": {
        "colab": {
          "base_uri": "https://localhost:8080/"
        },
        "id": "Ix9fN7ZylAkQ",
        "outputId": "837ff838-9ca2-40f3-94a9-de1926ec7e64"
      },
      "outputs": [
        {
          "name": "stdout",
          "output_type": "stream",
          "text": [
            "TrianguloDefeituoso2 - Todos os Testes\n",
            "\n",
            "✅ Teste 1: [1, 1, 1] == equilatero \n",
            "✅ Teste 2: [1, 1, 2] == invalido \n",
            "✅ Teste 3: [3, 3, 2] == isosceles \n",
            "✅ Teste 4: [2, 3, 3] == isosceles \n",
            "✅ Teste 5: [3, 2, 3] == isosceles \n",
            "✅ Teste 6: [2, 4, 5] == escaleno \n",
            "✅ Teste 7: [4, 2, 5] == escaleno \n",
            "✅ Teste 8: [5, 2, 4] == escaleno \n",
            "✅ Teste 9: [5, 4, 2] == escaleno \n",
            "✅ Teste 10: [2, 5, 4] == escaleno \n",
            "✅ Teste 11: [4, 5, 2] == escaleno \n",
            "✅ Teste 12: [0, 1, 2] == invalido \n",
            "✅ Teste 13: [-2, 4, 5] == invalido \n",
            "✅ Teste 14: [1, 2, 1] == invalido \n",
            "❌ Teste 15: [2, 1, 1] == invalido\t | saída esperada: 'invalido' | saída obtida: 'isosceles'\n",
            "✅ Teste 16: [2, 3, 9] == invalido \n",
            "✅ Teste 17: [2, 9, 3] == invalido \n",
            "✅ Teste 18: [3, 9, 2] == invalido \n",
            "✅ Teste 19: [9, 2, 3] == invalido \n",
            "✅ Teste 20: [9, 3, 2] == invalido \n",
            "✅ Teste 21: [0, 0, 0] == invalido \n",
            "✅ Teste 22: [2.5, 3.5, 5.5] == escaleno \n",
            "\n",
            "📝 21/22 testes passam com sucesso.\n"
          ]
        }
      ],
      "source": [
        "print(\"TrianguloDefeituoso2 - Todos os Testes\\n\")\n",
        "testar(TrianguloDefeituoso2.TipoTriangulo, todos_testes)"
      ]
    },
    {
      "cell_type": "code",
      "execution_count": 59,
      "metadata": {
        "colab": {
          "base_uri": "https://localhost:8080/"
        },
        "id": "fiZNr4F4lBdn",
        "outputId": "6a887c62-7560-4193-e6cc-5a25086b9491"
      },
      "outputs": [
        {
          "name": "stdout",
          "output_type": "stream",
          "text": [
            "TrianguloDefeituoso3\n",
            "\n",
            "✅ Teste 1: [1, 1, 1] == equilatero \n",
            "✅ Teste 2: [1, 1, 2] == invalido \n",
            "✅ Teste 3: [3, 3, 2] == isosceles \n",
            "✅ Teste 4: [2, 3, 3] == isosceles \n",
            "✅ Teste 5: [3, 2, 3] == isosceles \n",
            "✅ Teste 6: [2, 4, 5] == escaleno \n",
            "✅ Teste 7: [4, 2, 5] == escaleno \n",
            "✅ Teste 8: [5, 2, 4] == escaleno \n",
            "✅ Teste 9: [5, 4, 2] == escaleno \n",
            "✅ Teste 10: [2, 5, 4] == escaleno \n",
            "✅ Teste 11: [4, 5, 2] == escaleno \n",
            "✅ Teste 12: [0, 1, 2] == invalido \n",
            "✅ Teste 13: [-2, 4, 5] == invalido \n",
            "✅ Teste 14: [1, 2, 1] == invalido \n",
            "✅ Teste 15: [2, 1, 1] == invalido \n",
            "✅ Teste 16: [2, 3, 9] == invalido \n",
            "✅ Teste 17: [2, 9, 3] == invalido \n",
            "✅ Teste 18: [3, 9, 2] == invalido \n",
            "✅ Teste 19: [9, 2, 3] == invalido \n",
            "✅ Teste 20: [9, 3, 2] == invalido \n",
            "✅ Teste 21: [0, 0, 0] == invalido \n",
            "✅ Teste 22: [2.5, 3.5, 5.5] == escaleno \n",
            "\n",
            "📝 22/22 testes passam com sucesso.\n"
          ]
        }
      ],
      "source": [
        "print(\"TrianguloDefeituoso3\\n\")\n",
        "testar(TrianguloDefeituoso3.TipoTriangulo, todos_testes)"
      ]
    },
    {
      "attachments": {},
      "cell_type": "markdown",
      "metadata": {},
      "source": [
        "## Testes automatizados com pytest"
      ]
    },
    {
      "attachments": {},
      "cell_type": "markdown",
      "metadata": {},
      "source": [
        "Utilizamos o **pytest** com o auxílio do **ipytest** com a finalidade de executar os testes dentro de um notebook interativo.\n",
        "\n",
        "Como auxílio, seguimos o [exemplo disposto na documentação do próprio ipytest](https://github.com/chmp/ipytest/blob/main/Example.ipynb)."
      ]
    },
    {
      "cell_type": "code",
      "execution_count": 60,
      "metadata": {},
      "outputs": [
        {
          "name": "stdout",
          "output_type": "stream",
          "text": [
            "Note: you may need to restart the kernel to use updated packages.\n"
          ]
        },
        {
          "name": "stderr",
          "output_type": "stream",
          "text": [
            "\n",
            "[notice] A new release of pip available: 22.3.1 -> 23.1\n",
            "[notice] To update, run: python.exe -m pip install --upgrade pip\n"
          ]
        },
        {
          "name": "stdout",
          "output_type": "stream",
          "text": [
            "Note: you may need to restart the kernel to use updated packages.\n"
          ]
        },
        {
          "name": "stderr",
          "output_type": "stream",
          "text": [
            "\n",
            "[notice] A new release of pip available: 22.3.1 -> 23.1\n",
            "[notice] To update, run: python.exe -m pip install --upgrade pip\n"
          ]
        }
      ],
      "source": [
        "%pip install ipytest --quiet\n",
        "%pip install pytest --quiet"
      ]
    },
    {
      "cell_type": "code",
      "execution_count": 61,
      "metadata": {},
      "outputs": [],
      "source": [
        "import ipytest\n",
        "import pytest\n",
        "\n",
        "ipytest.autoconfig()"
      ]
    },
    {
      "cell_type": "code",
      "execution_count": 62,
      "metadata": {},
      "outputs": [],
      "source": [
        "casos_de_teste = [(*teste[\"entrada\"], teste[\"saida\"]) for teste in todos_testes]"
      ]
    },
    {
      "cell_type": "code",
      "execution_count": 63,
      "metadata": {},
      "outputs": [
        {
          "data": {
            "text/plain": [
              "[(1, 1, 1, 'equilatero'),\n",
              " (1, 1, 2, 'invalido'),\n",
              " (3, 3, 2, 'isosceles'),\n",
              " (2, 3, 3, 'isosceles'),\n",
              " (3, 2, 3, 'isosceles'),\n",
              " (2, 4, 5, 'escaleno'),\n",
              " (4, 2, 5, 'escaleno'),\n",
              " (5, 2, 4, 'escaleno'),\n",
              " (5, 4, 2, 'escaleno'),\n",
              " (2, 5, 4, 'escaleno'),\n",
              " (4, 5, 2, 'escaleno'),\n",
              " (0, 1, 2, 'invalido'),\n",
              " (-2, 4, 5, 'invalido'),\n",
              " (1, 2, 1, 'invalido'),\n",
              " (2, 1, 1, 'invalido'),\n",
              " (2, 3, 9, 'invalido'),\n",
              " (2, 9, 3, 'invalido'),\n",
              " (3, 9, 2, 'invalido'),\n",
              " (9, 2, 3, 'invalido'),\n",
              " (9, 3, 2, 'invalido'),\n",
              " (0, 0, 0, 'invalido'),\n",
              " (2.5, 3.5, 5.5, 'escaleno')]"
            ]
          },
          "execution_count": 63,
          "metadata": {},
          "output_type": "execute_result"
        }
      ],
      "source": [
        "casos_de_teste"
      ]
    },
    {
      "cell_type": "code",
      "execution_count": 64,
      "metadata": {},
      "outputs": [
        {
          "name": "stdout",
          "output_type": "stream",
          "text": [
            "\u001b[32m.\u001b[0m\u001b[31mF\u001b[0m\u001b[32m.\u001b[0m\u001b[32m.\u001b[0m\u001b[32m.\u001b[0m\u001b[32m.\u001b[0m\u001b[32m.\u001b[0m\u001b[32m.\u001b[0m\u001b[32m.\u001b[0m\u001b[32m.\u001b[0m\u001b[32m.\u001b[0m\u001b[32m.\u001b[0m\u001b[32m.\u001b[0m\u001b[31mF\u001b[0m\u001b[31mF\u001b[0m\u001b[32m.\u001b[0m\u001b[32m.\u001b[0m\u001b[32m.\u001b[0m\u001b[32m.\u001b[0m\u001b[32m.\u001b[0m\u001b[32m.\u001b[0m\u001b[32m.\u001b[0m\u001b[31m                                                                       [100%]\u001b[0m\n",
            "============================================ FAILURES =============================================\n",
            "\u001b[31m\u001b[1m____________________________ test_trianguloDefeituoso1[1-1-2-invalido] ____________________________\u001b[0m\n",
            "\n",
            "a = 1, b = 1, c = 2, saida_esperada = 'invalido'\n",
            "\n",
            "    \u001b[37m@pytest\u001b[39;49;00m.mark.parametrize(\u001b[33m'\u001b[39;49;00m\u001b[33ma,b,c,saida_esperada\u001b[39;49;00m\u001b[33m'\u001b[39;49;00m, casos_de_teste)\u001b[90m\u001b[39;49;00m\n",
            "    \u001b[90m\u001b[39;49;00m\n",
            "    \u001b[94mdef\u001b[39;49;00m \u001b[92mtest_trianguloDefeituoso1\u001b[39;49;00m(a, b, c, saida_esperada):\u001b[90m\u001b[39;49;00m\n",
            ">       \u001b[94massert\u001b[39;49;00m TrianguloDefeituoso1.TipoTriangulo(a, b, c) == saida_esperada\u001b[90m\u001b[39;49;00m\n",
            "\u001b[1m\u001b[31mE       AssertionError: assert 'isosceles' == 'invalido'\u001b[0m\n",
            "\u001b[1m\u001b[31mE         - invalido\u001b[0m\n",
            "\u001b[1m\u001b[31mE         + isosceles\u001b[0m\n",
            "\n",
            "\u001b[1m\u001b[31mC:\\Users\\eduar\\AppData\\Local\\Temp\\ipykernel_17352\\2668209635.py\u001b[0m:4: AssertionError\n",
            "\u001b[31m\u001b[1m____________________________ test_trianguloDefeituoso1[1-2-1-invalido] ____________________________\u001b[0m\n",
            "\n",
            "a = 1, b = 2, c = 1, saida_esperada = 'invalido'\n",
            "\n",
            "    \u001b[37m@pytest\u001b[39;49;00m.mark.parametrize(\u001b[33m'\u001b[39;49;00m\u001b[33ma,b,c,saida_esperada\u001b[39;49;00m\u001b[33m'\u001b[39;49;00m, casos_de_teste)\u001b[90m\u001b[39;49;00m\n",
            "    \u001b[90m\u001b[39;49;00m\n",
            "    \u001b[94mdef\u001b[39;49;00m \u001b[92mtest_trianguloDefeituoso1\u001b[39;49;00m(a, b, c, saida_esperada):\u001b[90m\u001b[39;49;00m\n",
            ">       \u001b[94massert\u001b[39;49;00m TrianguloDefeituoso1.TipoTriangulo(a, b, c) == saida_esperada\u001b[90m\u001b[39;49;00m\n",
            "\u001b[1m\u001b[31mE       AssertionError: assert 'isosceles' == 'invalido'\u001b[0m\n",
            "\u001b[1m\u001b[31mE         - invalido\u001b[0m\n",
            "\u001b[1m\u001b[31mE         + isosceles\u001b[0m\n",
            "\n",
            "\u001b[1m\u001b[31mC:\\Users\\eduar\\AppData\\Local\\Temp\\ipykernel_17352\\2668209635.py\u001b[0m:4: AssertionError\n",
            "\u001b[31m\u001b[1m____________________________ test_trianguloDefeituoso1[2-1-1-invalido] ____________________________\u001b[0m\n",
            "\n",
            "a = 2, b = 1, c = 1, saida_esperada = 'invalido'\n",
            "\n",
            "    \u001b[37m@pytest\u001b[39;49;00m.mark.parametrize(\u001b[33m'\u001b[39;49;00m\u001b[33ma,b,c,saida_esperada\u001b[39;49;00m\u001b[33m'\u001b[39;49;00m, casos_de_teste)\u001b[90m\u001b[39;49;00m\n",
            "    \u001b[90m\u001b[39;49;00m\n",
            "    \u001b[94mdef\u001b[39;49;00m \u001b[92mtest_trianguloDefeituoso1\u001b[39;49;00m(a, b, c, saida_esperada):\u001b[90m\u001b[39;49;00m\n",
            ">       \u001b[94massert\u001b[39;49;00m TrianguloDefeituoso1.TipoTriangulo(a, b, c) == saida_esperada\u001b[90m\u001b[39;49;00m\n",
            "\u001b[1m\u001b[31mE       AssertionError: assert 'isosceles' == 'invalido'\u001b[0m\n",
            "\u001b[1m\u001b[31mE         - invalido\u001b[0m\n",
            "\u001b[1m\u001b[31mE         + isosceles\u001b[0m\n",
            "\n",
            "\u001b[1m\u001b[31mC:\\Users\\eduar\\AppData\\Local\\Temp\\ipykernel_17352\\2668209635.py\u001b[0m:4: AssertionError\n",
            "\u001b[36m\u001b[1m===================================== short test summary info =====================================\u001b[0m\n",
            "\u001b[31mFAILED\u001b[0m t_ab6d6a9f3ad343f89c566399308727f1.py::\u001b[1mtest_trianguloDefeituoso1[1-1-2-invalido]\u001b[0m - AssertionError: assert 'isosceles' == 'invalido'\n",
            "\u001b[31mFAILED\u001b[0m t_ab6d6a9f3ad343f89c566399308727f1.py::\u001b[1mtest_trianguloDefeituoso1[1-2-1-invalido]\u001b[0m - AssertionError: assert 'isosceles' == 'invalido'\n",
            "\u001b[31mFAILED\u001b[0m t_ab6d6a9f3ad343f89c566399308727f1.py::\u001b[1mtest_trianguloDefeituoso1[2-1-1-invalido]\u001b[0m - AssertionError: assert 'isosceles' == 'invalido'\n",
            "\u001b[31m\u001b[31m\u001b[1m3 failed\u001b[0m, \u001b[32m19 passed\u001b[0m\u001b[31m in 0.13s\u001b[0m\u001b[0m\n"
          ]
        }
      ],
      "source": [
        "%%ipytest\n",
        "\n",
        "@pytest.mark.parametrize('a,b,c,saida_esperada', casos_de_teste)\n",
        "\n",
        "def test_trianguloDefeituoso1(a, b, c, saida_esperada):\n",
        "    assert TrianguloDefeituoso1.TipoTriangulo(a, b, c) == saida_esperada"
      ]
    },
    {
      "cell_type": "code",
      "execution_count": 65,
      "metadata": {},
      "outputs": [
        {
          "name": "stdout",
          "output_type": "stream",
          "text": [
            "\u001b[32m.\u001b[0m\u001b[32m.\u001b[0m\u001b[32m.\u001b[0m\u001b[32m.\u001b[0m\u001b[32m.\u001b[0m\u001b[32m.\u001b[0m\u001b[32m.\u001b[0m\u001b[32m.\u001b[0m\u001b[32m.\u001b[0m\u001b[32m.\u001b[0m\u001b[32m.\u001b[0m\u001b[32m.\u001b[0m\u001b[32m.\u001b[0m\u001b[32m.\u001b[0m\u001b[31mF\u001b[0m\u001b[32m.\u001b[0m\u001b[32m.\u001b[0m\u001b[32m.\u001b[0m\u001b[32m.\u001b[0m\u001b[32m.\u001b[0m\u001b[32m.\u001b[0m\u001b[32m.\u001b[0m\u001b[31m                                                                       [100%]\u001b[0m\n",
            "============================================ FAILURES =============================================\n",
            "\u001b[31m\u001b[1m____________________________ test_trianguloDefeituoso2[2-1-1-invalido] ____________________________\u001b[0m\n",
            "\n",
            "a = 2, b = 1, c = 1, saida_esperada = 'invalido'\n",
            "\n",
            "    \u001b[37m@pytest\u001b[39;49;00m.mark.parametrize(\u001b[33m'\u001b[39;49;00m\u001b[33ma,b,c,saida_esperada\u001b[39;49;00m\u001b[33m'\u001b[39;49;00m, casos_de_teste)\u001b[90m\u001b[39;49;00m\n",
            "    \u001b[90m\u001b[39;49;00m\n",
            "    \u001b[94mdef\u001b[39;49;00m \u001b[92mtest_trianguloDefeituoso2\u001b[39;49;00m(a, b, c, saida_esperada):\u001b[90m\u001b[39;49;00m\n",
            ">       \u001b[94massert\u001b[39;49;00m TrianguloDefeituoso2.TipoTriangulo(a, b, c) == saida_esperada\u001b[90m\u001b[39;49;00m\n",
            "\u001b[1m\u001b[31mE       AssertionError: assert 'isosceles' == 'invalido'\u001b[0m\n",
            "\u001b[1m\u001b[31mE         - invalido\u001b[0m\n",
            "\u001b[1m\u001b[31mE         + isosceles\u001b[0m\n",
            "\n",
            "\u001b[1m\u001b[31mC:\\Users\\eduar\\AppData\\Local\\Temp\\ipykernel_17352\\484276610.py\u001b[0m:4: AssertionError\n",
            "\u001b[36m\u001b[1m===================================== short test summary info =====================================\u001b[0m\n",
            "\u001b[31mFAILED\u001b[0m t_ab6d6a9f3ad343f89c566399308727f1.py::\u001b[1mtest_trianguloDefeituoso2[2-1-1-invalido]\u001b[0m - AssertionError: assert 'isosceles' == 'invalido'\n",
            "\u001b[31m\u001b[31m\u001b[1m1 failed\u001b[0m, \u001b[32m21 passed\u001b[0m\u001b[31m in 0.14s\u001b[0m\u001b[0m\n"
          ]
        }
      ],
      "source": [
        "%%ipytest\n",
        "\n",
        "@pytest.mark.parametrize('a,b,c,saida_esperada', casos_de_teste)\n",
        "\n",
        "def test_trianguloDefeituoso2(a, b, c, saida_esperada):\n",
        "    assert TrianguloDefeituoso2.TipoTriangulo(a, b, c) == saida_esperada"
      ]
    },
    {
      "cell_type": "code",
      "execution_count": 66,
      "metadata": {},
      "outputs": [
        {
          "name": "stdout",
          "output_type": "stream",
          "text": [
            "\u001b[32m.\u001b[0m\u001b[32m.\u001b[0m\u001b[32m.\u001b[0m\u001b[32m.\u001b[0m\u001b[32m.\u001b[0m\u001b[32m.\u001b[0m\u001b[32m.\u001b[0m\u001b[32m.\u001b[0m\u001b[32m.\u001b[0m\u001b[32m.\u001b[0m\u001b[32m.\u001b[0m\u001b[32m.\u001b[0m\u001b[32m.\u001b[0m\u001b[32m.\u001b[0m\u001b[32m.\u001b[0m\u001b[32m.\u001b[0m\u001b[32m.\u001b[0m\u001b[32m.\u001b[0m\u001b[32m.\u001b[0m\u001b[32m.\u001b[0m\u001b[32m.\u001b[0m\u001b[32m.\u001b[0m\u001b[32m                                                                       [100%]\u001b[0m\n",
            "\u001b[32m\u001b[32m\u001b[1m22 passed\u001b[0m\u001b[32m in 0.15s\u001b[0m\u001b[0m\n"
          ]
        }
      ],
      "source": [
        "%%ipytest\n",
        "\n",
        "@pytest.mark.parametrize('a,b,c,saida_esperada', casos_de_teste)\n",
        "\n",
        "def test_trianguloDefeituoso3(a, b, c, saida_esperada):\n",
        "    assert TrianguloDefeituoso3.TipoTriangulo(a, b, c) == saida_esperada"
      ]
    },
    {
      "attachments": {},
      "cell_type": "markdown",
      "metadata": {},
      "source": [
        "## Conclusão\n",
        "\n"
      ]
    },
    {
      "attachments": {},
      "cell_type": "markdown",
      "metadata": {},
      "source": [
        "- Fazer testes manualmente é laborioso\n",
        "- Como programadores, é esperado que tentemos automatizar uma tarefa laboriosa\n",
        "- Existem ferramentas de testes que são bem ricas em features - não vale a pena tentar criar a própria framework de testes à mão\n",
        "- O processo de teste é útil para detectar problemas no programa, uma vez que é possível executar os testes que obtiveram falhas e ter uma melhor direção de onde encontrar os defeitos."
      ]
    }
  ],
  "metadata": {
    "colab": {
      "provenance": []
    },
    "kernelspec": {
      "display_name": "Python 3",
      "name": "python3"
    },
    "language_info": {
      "codemirror_mode": {
        "name": "ipython",
        "version": 3
      },
      "file_extension": ".py",
      "mimetype": "text/x-python",
      "name": "python",
      "nbconvert_exporter": "python",
      "pygments_lexer": "ipython3",
      "version": "3.10.2"
    }
  },
  "nbformat": 4,
  "nbformat_minor": 0
}
