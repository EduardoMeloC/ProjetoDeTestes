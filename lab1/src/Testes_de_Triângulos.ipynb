{
  "cells": [
    {
      "attachments": {},
      "cell_type": "markdown",
      "metadata": {},
      "source": [
        "# Projeto de Testes - Testes de Triângulos\n",
        "\n",
        "Eduardo Dias de Melo Catarina\n",
        "Matheus Fernandes\n",
        "Rafael de Aguiar Ferreira"
      ]
    },
    {
      "attachments": {},
      "cell_type": "markdown",
      "metadata": {},
      "source": [
        "Durante a primeira atividade de aula, nós pensamos nos seguintes casos de testes, com suas entradas e saídas esperadas: \n",
        "\n",
        "- 1,1,1 - equilátero\n",
        "- 1,1,2 - inválido\n",
        "- 3,3,2 - isósceles\n",
        "- 2,3,3 - isósceles\n",
        "- 3,2,3 - isósceles\n",
        "- 2,4,5 - escaleno\n",
        "- 2,5,4 - escaleno\n",
        "- 4,2,5 - escaleno\n",
        "- 4,5,2 - escaleno\n",
        "- 5,2,4 - escaleno\n",
        "- 5,4,2 - escaleno\n",
        "- -2,4,5 - inválido\n",
        "- 0,1,2 - inválido"
      ]
    },
    {
      "cell_type": "markdown",
      "metadata": {},
      "source": [
        "Entretanto, apesar de abranger bastantes casos, os testes que projetamos ainda não são o suficientes para concluir a ausência de falhas nos programas fornecidos pois não trata todos os casos possível. Não a toa que nos testes que executamos com os casos que projetamos, eles não foram o suficiente para apontar problemas nos programas 2 e 3.\n",
        "\n",
        "Entendemos que os seguintes casos de testes faltaram:\n",
        "\n",
        "- 1,2,1 - inválido\n",
        "- 2,1,1 - inválido\n",
        "- 2,3,9 - inválido\n",
        "- 2,9,3 - inválido\n",
        "- 3,2,9 - inválido \n",
        "- 3,9,2 - inválido\n",
        "- 9,2,3 - inválido\n",
        "- 9,3,2 - inválido \n",
        "- 0,0,0 - inválido \n",
        "- 2.5,3.5,5.5 - escaleno\n",
        "- 2,1 - inválido"
      ]
    },
    {
      "cell_type": "code",
      "execution_count": 6,
      "metadata": {
        "id": "TOvzzVWFaI0P"
      },
      "outputs": [],
      "source": [
        "class TrianguloDefeituoso1:\n",
        "  def TipoTriangulo(a,b,c):\n",
        "      if (a <= 0 or b <= 0 or c <= 0):\n",
        "          return \"invalido\"\n",
        "      \n",
        "      \n",
        "      if (a+b >= c and a+c >= b and b+c >= a):\n",
        "          if (a==b and b == c):\n",
        "              return \"equilatero\"\n",
        "          if (a==b or a==c or b==c):\n",
        "              return \"isosceles\"\n",
        "          return \"escaleno\"\n",
        "      return \"invalido\"\n"
      ]
    },
    {
      "cell_type": "code",
      "execution_count": 7,
      "metadata": {
        "id": "5i01gY4RaYQn"
      },
      "outputs": [],
      "source": [
        "class TrianguloDefeituoso2:\n",
        "  def TipoTriangulo(a,b,c):\n",
        "    if (a <= 0 or b <= 0 or c <= 0):\n",
        "        return \"invalido\"\n",
        "    \n",
        "    \n",
        "    if (a+b > c and a+c > b and b+c >= a):\n",
        "        if (a==b and b == c):\n",
        "            return \"equilatero\"\n",
        "        if (a==b or a==c or b==c):\n",
        "            return \"isosceles\"\n",
        "        return \"escaleno\"\n",
        "    return \"invalido\""
      ]
    },
    {
      "cell_type": "code",
      "execution_count": 8,
      "metadata": {
        "id": "BfazVEm3ak3T"
      },
      "outputs": [],
      "source": [
        "class TrianguloDefeituoso3:\n",
        "  def TipoTriangulo(a,b,c):\n",
        "    if (a <= 0 or b <= 0 or c < 0):\n",
        "        return \"invalido\"   \n",
        "    if (a+b > c and a+c > b and b+c > a):\n",
        "        if (a==b and b == c):\n",
        "            return \"equilatero\"\n",
        "        if (a==b or a==c or b==c):\n",
        "            return \"isosceles\"\n",
        "        return \"escaleno\"\n",
        "    return \"invalido\""
      ]
    },
    {
      "cell_type": "code",
      "execution_count": 9,
      "metadata": {
        "id": "h8CwvYRBapQ3"
      },
      "outputs": [],
      "source": [
        "equilatero = \"equilatero\"\n",
        "isosceles = \"isosceles\"\n",
        "escaleno = \"escaleno\"\n",
        "invalido = \"invalido\""
      ]
    },
    {
      "cell_type": "code",
      "execution_count": 10,
      "metadata": {
        "id": "SMsNVCY8f9kH"
      },
      "outputs": [],
      "source": [
        "testes_de_aula = [\n",
        "  { \"entrada\": [1, 1, 1], \"saida\": equilatero },\n",
        "  { \"entrada\": [1, 1, 2], \"saida\": invalido },\n",
        "  { \"entrada\": [3, 3, 2], \"saida\": isosceles },\n",
        "  { \"entrada\": [2, 3, 3], \"saida\": isosceles },\n",
        "  { \"entrada\": [3, 2, 3], \"saida\": isosceles },\n",
        "  { \"entrada\": [2, 4, 5], \"saida\": escaleno },\n",
        "  { \"entrada\": [4, 2, 5], \"saida\": escaleno },\n",
        "  { \"entrada\": [5, 2, 4], \"saida\": escaleno },\n",
        "  { \"entrada\": [5, 4, 2], \"saida\": escaleno },\n",
        "  { \"entrada\": [2, 5, 4], \"saida\": escaleno },\n",
        "  { \"entrada\": [4, 5, 2], \"saida\": escaleno },\n",
        "  { \"entrada\": [0, 1, 2], \"saida\": invalido },\n",
        "  { \"entrada\": [-2, 4, 5], \"saida\": invalido },\n",
        "]\n",
        "    \n",
        "testes_que_faltam = [\n",
        "  { \"entrada\": [1, 2, 1], \"saida\": invalido },\n",
        "  { \"entrada\": [2, 1, 1], \"saida\": invalido },\n",
        "  { \"entrada\": [2, 3, 9], \"saida\": invalido },\n",
        "  { \"entrada\": [2, 9, 3], \"saida\": invalido },\n",
        "  { \"entrada\": [3, 9, 2], \"saida\": invalido },\n",
        "  { \"entrada\": [9, 2, 3], \"saida\": invalido },\n",
        "  { \"entrada\": [9, 3, 2], \"saida\": invalido },\n",
        "  { \"entrada\": [0, 0, 0], \"saida\": invalido },\n",
        "  { \"entrada\": [2.5, 3.5, 5.5], \"saida\": escaleno },\n",
        "  # { \"entrada\": [2, 1], \"saida\": invalido },\n",
        "]\n",
        "\n",
        "todos_testes = [*testes_de_aula, *testes_que_faltam]"
      ]
    },
    {
      "cell_type": "code",
      "execution_count": 11,
      "metadata": {
        "id": "EofBmJzhhh9_"
      },
      "outputs": [],
      "source": [
        "def testar(f, testes):\n",
        "  contagem_de_testes_que_passam = 0\n",
        "  for i, teste in enumerate(testes):\n",
        "    entrada = teste[\"entrada\"]\n",
        "    saida_esperada = teste[\"saida\"]\n",
        "    saida_obtida = f(*teste[\"entrada\"])\n",
        "    passa_no_teste = (saida_obtida == teste[\"saida\"])\n",
        "    contagem_de_testes_que_passam = contagem_de_testes_que_passam + (passa_no_teste and 1 or 0)\n",
        "    emoji = passa_no_teste and \"✅\" or \"❌\"\n",
        "    string_saida_obtida = (passa_no_teste == True) and \" \" or f\"\\t | saída esperada: \\'{saida_esperada}\\' | saída obtida: \\'{saida_obtida}\\'\"\n",
        "    print(f\"{emoji} Teste {i+1}: {entrada} == {saida_esperada}\" + string_saida_obtida )\n",
        "  print(f\"\\n📝 {contagem_de_testes_que_passam}/{len(testes)} testes passam com sucesso.\")"
      ]
    },
    {
      "cell_type": "code",
      "execution_count": 12,
      "metadata": {
        "colab": {
          "base_uri": "https://localhost:8080/"
        },
        "id": "yLDuL1pgiTDg",
        "outputId": "20c987b3-b067-460f-9628-96ba2c7cdb84"
      },
      "outputs": [
        {
          "name": "stdout",
          "output_type": "stream",
          "text": [
            "TrianguloDefeituoso1 - Testes de Aula\n",
            "\n",
            "✅ Teste 1: [1, 1, 1] == equilatero \n",
            "❌ Teste 2: [1, 1, 2] == invalido\t | saída esperada: 'invalido' | saída obtida: 'isosceles'\n",
            "✅ Teste 3: [3, 3, 2] == isosceles \n",
            "✅ Teste 4: [2, 3, 3] == isosceles \n",
            "✅ Teste 5: [3, 2, 3] == isosceles \n",
            "✅ Teste 6: [2, 4, 5] == escaleno \n",
            "✅ Teste 7: [4, 2, 5] == escaleno \n",
            "✅ Teste 8: [5, 2, 4] == escaleno \n",
            "✅ Teste 9: [5, 4, 2] == escaleno \n",
            "✅ Teste 10: [2, 5, 4] == escaleno \n",
            "✅ Teste 11: [4, 5, 2] == escaleno \n",
            "✅ Teste 12: [0, 1, 2] == invalido \n",
            "✅ Teste 13: [-2, 4, 5] == invalido \n",
            "\n",
            "📝 12/13 testes passam com sucesso.\n",
            "TrianguloDefeituoso1 - Testes que Faltam\n",
            "\n",
            "❌ Teste 1: [1, 2, 1] == invalido\t | saída esperada: 'invalido' | saída obtida: 'isosceles'\n",
            "❌ Teste 2: [2, 1, 1] == invalido\t | saída esperada: 'invalido' | saída obtida: 'isosceles'\n",
            "✅ Teste 3: [2, 3, 9] == invalido \n",
            "✅ Teste 4: [2, 9, 3] == invalido \n",
            "✅ Teste 5: [3, 9, 2] == invalido \n",
            "✅ Teste 6: [9, 2, 3] == invalido \n",
            "✅ Teste 7: [9, 3, 2] == invalido \n",
            "✅ Teste 8: [0, 0, 0] == invalido \n",
            "✅ Teste 9: [2.5, 3.5, 5.5] == escaleno \n"
          ]
        },
        {
          "ename": "TypeError",
          "evalue": "TrianguloDefeituoso1.TipoTriangulo() missing 1 required positional argument: 'c'",
          "output_type": "error",
          "traceback": [
            "\u001b[1;31m---------------------------------------------------------------------------\u001b[0m",
            "\u001b[1;31mTypeError\u001b[0m                                 Traceback (most recent call last)",
            "Cell \u001b[1;32mIn[12], line 5\u001b[0m\n\u001b[0;32m      2\u001b[0m testar(TrianguloDefeituoso1\u001b[39m.\u001b[39mTipoTriangulo, testes_de_aula)\n\u001b[0;32m      4\u001b[0m \u001b[39mprint\u001b[39m(\u001b[39m\"\u001b[39m\u001b[39mTrianguloDefeituoso1 - Testes que Faltam\u001b[39m\u001b[39m\\n\u001b[39;00m\u001b[39m\"\u001b[39m)\n\u001b[1;32m----> 5\u001b[0m testar(TrianguloDefeituoso1\u001b[39m.\u001b[39;49mTipoTriangulo, testes_que_faltam)\n",
            "Cell \u001b[1;32mIn[11], line 6\u001b[0m, in \u001b[0;36mtestar\u001b[1;34m(f, testes)\u001b[0m\n\u001b[0;32m      4\u001b[0m entrada \u001b[39m=\u001b[39m teste[\u001b[39m\"\u001b[39m\u001b[39mentrada\u001b[39m\u001b[39m\"\u001b[39m]\n\u001b[0;32m      5\u001b[0m saida_esperada \u001b[39m=\u001b[39m teste[\u001b[39m\"\u001b[39m\u001b[39msaida\u001b[39m\u001b[39m\"\u001b[39m]\n\u001b[1;32m----> 6\u001b[0m saida_obtida \u001b[39m=\u001b[39m f(\u001b[39m*\u001b[39;49mteste[\u001b[39m\"\u001b[39;49m\u001b[39mentrada\u001b[39;49m\u001b[39m\"\u001b[39;49m])\n\u001b[0;32m      7\u001b[0m passa_no_teste \u001b[39m=\u001b[39m (saida_obtida \u001b[39m==\u001b[39m teste[\u001b[39m\"\u001b[39m\u001b[39msaida\u001b[39m\u001b[39m\"\u001b[39m])\n\u001b[0;32m      8\u001b[0m contagem_de_testes_que_passam \u001b[39m=\u001b[39m contagem_de_testes_que_passam \u001b[39m+\u001b[39m (passa_no_teste \u001b[39mand\u001b[39;00m \u001b[39m1\u001b[39m \u001b[39mor\u001b[39;00m \u001b[39m0\u001b[39m)\n",
            "\u001b[1;31mTypeError\u001b[0m: TrianguloDefeituoso1.TipoTriangulo() missing 1 required positional argument: 'c'"
          ]
        }
      ],
      "source": [
        "print(\"TrianguloDefeituoso1 - Testes de Aula\\n\")\n",
        "testar(TrianguloDefeituoso1.TipoTriangulo, testes_de_aula)\n",
        "\n",
        "print(\"TrianguloDefeituoso1 - Testes que Faltam\\n\")\n",
        "testar(TrianguloDefeituoso1.TipoTriangulo, testes_que_faltam)"
      ]
    },
    {
      "cell_type": "code",
      "execution_count": 32,
      "metadata": {
        "colab": {
          "base_uri": "https://localhost:8080/"
        },
        "id": "Ix9fN7ZylAkQ",
        "outputId": "837ff838-9ca2-40f3-94a9-de1926ec7e64"
      },
      "outputs": [
        {
          "name": "stdout",
          "output_type": "stream",
          "text": [
            "TrianguloDefeituoso2\n",
            "\n",
            "✅ Teste 1: [1, 1, 1] == equilatero \n",
            "✅ Teste 2: [1, 1, 2] == invalido \n",
            "✅ Teste 3: [3, 3, 2] == isosceles \n",
            "✅ Teste 4: [2, 3, 3] == isosceles \n",
            "✅ Teste 5: [3, 2, 3] == isosceles \n",
            "✅ Teste 6: [2, 4, 5] == escaleno \n",
            "✅ Teste 7: [4, 2, 5] == escaleno \n",
            "✅ Teste 8: [5, 2, 4] == escaleno \n",
            "✅ Teste 9: [5, 4, 2] == escaleno \n",
            "✅ Teste 10: [2, 5, 4] == escaleno \n",
            "✅ Teste 11: [4, 5, 2] == escaleno \n",
            "✅ Teste 12: [0, 1, 2] == invalido \n",
            "✅ Teste 13: [-2, 4, 5] == invalido \n",
            "\n",
            "📝 13/13 testes passam com sucesso.\n"
          ]
        }
      ],
      "source": [
        "print(\"TrianguloDefeituoso2\\n\")\n",
        "testar(TrianguloDefeituoso2.TipoTriangulo, testes)"
      ]
    },
    {
      "cell_type": "code",
      "execution_count": 33,
      "metadata": {
        "colab": {
          "base_uri": "https://localhost:8080/"
        },
        "id": "fiZNr4F4lBdn",
        "outputId": "6a887c62-7560-4193-e6cc-5a25086b9491"
      },
      "outputs": [
        {
          "name": "stdout",
          "output_type": "stream",
          "text": [
            "TrianguloDefeituoso3\n",
            "\n",
            "✅ Teste 1: [1, 1, 1] == equilatero \n",
            "✅ Teste 2: [1, 1, 2] == invalido \n",
            "✅ Teste 3: [3, 3, 2] == isosceles \n",
            "✅ Teste 4: [2, 3, 3] == isosceles \n",
            "✅ Teste 5: [3, 2, 3] == isosceles \n",
            "✅ Teste 6: [2, 4, 5] == escaleno \n",
            "✅ Teste 7: [4, 2, 5] == escaleno \n",
            "✅ Teste 8: [5, 2, 4] == escaleno \n",
            "✅ Teste 9: [5, 4, 2] == escaleno \n",
            "✅ Teste 10: [2, 5, 4] == escaleno \n",
            "✅ Teste 11: [4, 5, 2] == escaleno \n",
            "✅ Teste 12: [0, 1, 2] == invalido \n",
            "✅ Teste 13: [-2, 4, 5] == invalido \n",
            "\n",
            "📝 13/13 testes passam com sucesso.\n"
          ]
        }
      ],
      "source": [
        "print(\"TrianguloDefeituoso3\\n\")\n",
        "testar(TrianguloDefeituoso3.TipoTriangulo, testes)"
      ]
    },
    {
      "attachments": {},
      "cell_type": "markdown",
      "metadata": {},
      "source": [
        "## Testes automatizados com pytest"
      ]
    },
    {
      "cell_type": "code",
      "execution_count": 3,
      "metadata": {},
      "outputs": [
        {
          "name": "stderr",
          "output_type": "stream",
          "text": [
            "\n",
            "[notice] A new release of pip available: 22.3.1 -> 23.1.1\n",
            "[notice] To update, run: python.exe -m pip install --upgrade pip\n"
          ]
        }
      ],
      "source": [
        "!pip install ipytest --quiet"
      ]
    },
    {
      "cell_type": "code",
      "execution_count": 4,
      "metadata": {},
      "outputs": [],
      "source": [
        "import ipytest\n",
        "\n",
        "ipytest.autoconfig()"
      ]
    },
    {
      "cell_type": "code",
      "execution_count": null,
      "metadata": {},
      "outputs": [],
      "source": []
    }
  ],
  "metadata": {
    "colab": {
      "provenance": []
    },
    "kernelspec": {
      "display_name": "Python 3",
      "name": "python3"
    },
    "language_info": {
      "codemirror_mode": {
        "name": "ipython",
        "version": 3
      },
      "file_extension": ".py",
      "mimetype": "text/x-python",
      "name": "python",
      "nbconvert_exporter": "python",
      "pygments_lexer": "ipython3",
      "version": "3.10.2"
    }
  },
  "nbformat": 4,
  "nbformat_minor": 0
}
