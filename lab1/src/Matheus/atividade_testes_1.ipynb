{
  "nbformat": 4,
  "nbformat_minor": 0,
  "metadata": {
    "colab": {
      "provenance": []
    },
    "kernelspec": {
      "name": "python3",
      "display_name": "Python 3"
    },
    "language_info": {
      "name": "python"
    }
  },
  "cells": [
    {
      "cell_type": "code",
      "execution_count": null,
      "metadata": {
        "id": "YWpV_-V5ZEPS"
      },
      "outputs": [],
      "source": [
        "def TipoTriangulo3(a,b,c):\n",
        "\n",
        "    if (a <= 0 or b <= 0 or c < 0):\n",
        "        return \"invalido\"\n",
        "    \n",
        "\t\t\n",
        "    if (a+b > c and a+c > b and b+c > a):\n",
        "        if (a==b and b == c):\n",
        "            return \"equilatero\"\n",
        "        if (a==b or a==c or b==c):\n",
        "            return \"isosceles\"\n",
        "        return \"escaleno\"\n",
        "    return \"invalido\"\n",
        "\n",
        "def TipoTriangulo2(a,b,c):\n",
        "\n",
        "    if (a <= 0 or b <= 0 or c <= 0):\n",
        "        return \"invalido\"\n",
        "    \n",
        "\t\t\n",
        "    if (a+b > c and a+c > b and b+c >= a):\n",
        "        if (a==b and b == c):\n",
        "            return \"equilatero\"\n",
        "        if (a==b or a==c or b==c):\n",
        "            return \"isosceles\"\n",
        "        return \"escaleno\"\n",
        "    return \"invalido\"\n",
        "\n",
        "def TipoTriangulo1(a,b,c):\n",
        "\n",
        "    if (a <= 0 or b <= 0 or c <= 0):\n",
        "        return \"invalido\"\n",
        "    \n",
        "\t\t\n",
        "    if (a+b >= c and a+c >= b and b+c >= a):\n",
        "        if (a==b and b == c):\n",
        "            return \"equilatero\"\n",
        "        if (a==b or a==c or b==c):\n",
        "            return \"isosceles\"\n",
        "        return \"escaleno\"\n",
        "    return \"invalido\""
      ]
    },
    {
      "cell_type": "code",
      "source": [
        "testes = [[1,1,1,'equilatero'], [1,1,2,'invalido'], [3,3,2,'isosceles'], [2,3,3,'isosceles'], [3,2,3,'isosceles'], [2,4,5,'escaleno'], [5,4,2,'escaleno'], \n",
        "          [4,2,5,'escaleno'], [5,2,4,'escaleno'], [2,5,4,'escaleno'], [4,5,2,'escaleno'], [-2,4,5,'invalido'], [0,1,2,'invalido']]\n",
        "\n",
        "count1 = 0\n",
        "count2 = 0\n",
        "count3 = 0\n",
        "for i in range(len(testes)):\n",
        "  result1 = TipoTriangulo1(testes[i][0],testes[i][1],testes[i][2])\n",
        "  result2 = TipoTriangulo2(testes[i][0],testes[i][1],testes[i][2])\n",
        "  result3 = TipoTriangulo3(testes[i][0],testes[i][1],testes[i][2])\n",
        "\n",
        "\n",
        "  if result1 == testes[i][3]:\n",
        "    count1 += 1\n",
        "  else:\n",
        "    print(\"TipoTriangulo1 teve uma saída inesperada. Teste \" + str(i+1) + \", esperado: \" + testes[i][3] + \", obtido: \" + result1)\n",
        "\n",
        "  if result2 == testes[i][3]:\n",
        "    count2 += 1\n",
        "  else:\n",
        "    print(\"TipoTriangulo2 teve uma saída inesperada. Teste \" + str(i+1) + \", esperado: \" + testes[i][3] + \", obtido: \" + result2)\n",
        "\n",
        "  if result3 == testes[i][3]:\n",
        "    count3 += 1\n",
        "  else:\n",
        "    print(\"TipoTriangulo3 teve uma saída inesperada. Teste \" + str(i+1) + \", esperado: \" + testes[i][3] + \", obtido: \" + result3)\n",
        "\n",
        "print(\"\\n\")\n",
        "  \n",
        "print(\"TipoTriangulo1 teve \" + str(count1) + \" saídas esperadas das 14.\")\n",
        "print(\"TipoTriangulo2 teve \" + str(count2) + \" saídas esperadas das 14.\")\n",
        "print(\"TipoTriangulo3 teve \" + str(count3) + \" saídas esperadas das 14.\")\n"
      ],
      "metadata": {
        "colab": {
          "base_uri": "https://localhost:8080/"
        },
        "id": "RGLAM9loZGZz",
        "outputId": "c964fc53-b472-48d5-9a8a-411db3ebce19"
      },
      "execution_count": null,
      "outputs": [
        {
          "output_type": "stream",
          "name": "stdout",
          "text": [
            "TipoTriangulo1 teve uma saída inesperada. Teste 2, esperado: invalido, obtido: isosceles\n",
            "\n",
            "\n",
            "TipoTriangulo1 teve 13 saídas esperadas das 14.\n",
            "TipoTriangulo2 teve 14 saídas esperadas das 14.\n",
            "TipoTriangulo3 teve 14 saídas esperadas das 14.\n"
          ]
        }
      ]
    }
  ]
}