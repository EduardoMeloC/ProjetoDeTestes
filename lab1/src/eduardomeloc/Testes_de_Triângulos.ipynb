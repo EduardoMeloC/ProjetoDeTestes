{
  "nbformat": 4,
  "nbformat_minor": 0,
  "metadata": {
    "colab": {
      "provenance": []
    },
    "kernelspec": {
      "name": "python3",
      "display_name": "Python 3"
    },
    "language_info": {
      "name": "python"
    }
  },
  "cells": [
    {
      "cell_type": "code",
      "execution_count": null,
      "metadata": {
        "id": "TOvzzVWFaI0P"
      },
      "outputs": [],
      "source": [
        "class TrianguloDefeituoso1:\n",
        "  def TipoTriangulo(a,b,c):\n",
        "      if (a <= 0 or b <= 0 or c <= 0):\n",
        "          return \"invalido\"\n",
        "      \n",
        "      \n",
        "      if (a+b >= c and a+c >= b and b+c >= a):\n",
        "          if (a==b and b == c):\n",
        "              return \"equilatero\"\n",
        "          if (a==b or a==c or b==c):\n",
        "              return \"isosceles\"\n",
        "          return \"escaleno\"\n",
        "      return \"invalido\"\n"
      ]
    },
    {
      "cell_type": "code",
      "source": [
        "class TrianguloDefeituoso2:\n",
        "  def TipoTriangulo(a,b,c):\n",
        "    if (a <= 0 or b <= 0 or c <= 0):\n",
        "        return \"invalido\"\n",
        "    \n",
        "    \n",
        "    if (a+b > c and a+c > b and b+c >= a):\n",
        "        if (a==b and b == c):\n",
        "            return \"equilatero\"\n",
        "        if (a==b or a==c or b==c):\n",
        "            return \"isosceles\"\n",
        "        return \"escaleno\"\n",
        "    return \"invalido\""
      ],
      "metadata": {
        "id": "5i01gY4RaYQn"
      },
      "execution_count": null,
      "outputs": []
    },
    {
      "cell_type": "code",
      "source": [
        "class TrianguloDefeituoso3:\n",
        "  def TipoTriangulo(a,b,c):\n",
        "    if (a <= 0 or b <= 0 or c < 0):\n",
        "        return \"invalido\"   \n",
        "    if (a+b > c and a+c > b and b+c > a):\n",
        "        if (a==b and b == c):\n",
        "            return \"equilatero\"\n",
        "        if (a==b or a==c or b==c):\n",
        "            return \"isosceles\"\n",
        "        return \"escaleno\"\n",
        "    return \"invalido\""
      ],
      "metadata": {
        "id": "BfazVEm3ak3T"
      },
      "execution_count": null,
      "outputs": []
    },
    {
      "cell_type": "code",
      "source": [
        "equilatero = \"equilatero\"\n",
        "isosceles = \"isosceles\"\n",
        "escaleno = \"escaleno\"\n",
        "invalido = \"invalido\""
      ],
      "metadata": {
        "id": "h8CwvYRBapQ3"
      },
      "execution_count": null,
      "outputs": []
    },
    {
      "cell_type": "code",
      "source": [
        "testes = [\n",
        "  {\n",
        "    \"entrada\": [1, 1, 1],\n",
        "    \"saida\": equilatero\n",
        "  },\n",
        "  {\n",
        "    \"entrada\": [1, 1, 2],\n",
        "    \"saida\": invalido\n",
        "  },\n",
        "  {\n",
        "    \"entrada\": [3, 3, 2],\n",
        "    \"saida\": isosceles\n",
        "  },\n",
        "  {\n",
        "    \"entrada\": [2, 3, 3],\n",
        "    \"saida\": isosceles\n",
        "  },\n",
        "  {\n",
        "    \"entrada\": [3, 2, 3],\n",
        "    \"saida\": isosceles\n",
        "  },\n",
        "  {\n",
        "    \"entrada\": [2, 4, 5],\n",
        "    \"saida\": escaleno\n",
        "  },\n",
        "  {\n",
        "    \"entrada\": [4, 2, 5],\n",
        "    \"saida\": escaleno\n",
        "  },\n",
        "  {\n",
        "    \"entrada\": [5, 2, 4],\n",
        "    \"saida\": escaleno\n",
        "  },\n",
        "  {\n",
        "    \"entrada\": [5, 4, 2],\n",
        "    \"saida\": escaleno\n",
        "  },\n",
        "  {\n",
        "    \"entrada\": [2, 5, 4],\n",
        "    \"saida\": escaleno\n",
        "  },\n",
        "  {\n",
        "    \"entrada\": [4, 5, 2],\n",
        "    \"saida\": escaleno\n",
        "  },\n",
        "  {\n",
        "    \"entrada\": [0, 1, 2],\n",
        "    \"saida\": invalido\n",
        "  },\n",
        "  {\n",
        "    \"entrada\": [-2, 4, 5],\n",
        "    \"saida\": invalido\n",
        "  },\n",
        "]\n",
        "    \n"
      ],
      "metadata": {
        "id": "SMsNVCY8f9kH"
      },
      "execution_count": null,
      "outputs": []
    },
    {
      "cell_type": "code",
      "source": [
        "def testar(f, testes):\n",
        "  for i, teste in enumerate(testes):\n",
        "    entrada = teste[\"entrada\"]\n",
        "    saida_esperada = teste[\"saida\"]\n",
        "    saida_obtida = f(*teste[\"entrada\"])\n",
        "    passa_no_teste = (saida_obtida == teste[\"saida\"])\n",
        "    emoji = passa_no_teste and \"✅\" or \"❌\"\n",
        "    string_saida_esperada = (passa_no_teste == True) and \" \" or f\" | saída obtida: {saida_obtida}\"\n",
        "    print(f\"{emoji} Teste {i+1}: {entrada} == {saida_esperada}\" + string_saida_esperada )"
      ],
      "metadata": {
        "id": "EofBmJzhhh9_"
      },
      "execution_count": null,
      "outputs": []
    },
    {
      "cell_type": "code",
      "source": [
        "print(\"TrianguloDefeituoso1\")\n",
        "testar(TrianguloDefeituoso1.TipoTriangulo, testes)"
      ],
      "metadata": {
        "colab": {
          "base_uri": "https://localhost:8080/"
        },
        "id": "yLDuL1pgiTDg",
        "outputId": "20c987b3-b067-460f-9628-96ba2c7cdb84"
      },
      "execution_count": null,
      "outputs": [
        {
          "output_type": "stream",
          "name": "stdout",
          "text": [
            "TrianguloDefeituoso1\n",
            "✅ Teste 1: [1, 1, 1] == equilatero \n",
            "❌ Teste 2: [1, 1, 2] == invalido | saída obtida: isosceles\n",
            "✅ Teste 3: [3, 3, 2] == isosceles \n",
            "✅ Teste 4: [2, 3, 3] == isosceles \n",
            "✅ Teste 5: [3, 2, 3] == isosceles \n",
            "✅ Teste 6: [2, 4, 5] == escaleno \n",
            "✅ Teste 7: [4, 2, 5] == escaleno \n",
            "✅ Teste 8: [5, 2, 4] == escaleno \n",
            "✅ Teste 9: [5, 4, 2] == escaleno \n",
            "✅ Teste 10: [2, 5, 4] == escaleno \n",
            "✅ Teste 11: [4, 5, 2] == escaleno \n",
            "✅ Teste 12: [0, 1, 2] == invalido \n",
            "✅ Teste 13: [-2, 4, 5] == invalido \n"
          ]
        }
      ]
    },
    {
      "cell_type": "code",
      "source": [
        "print(\"TrianguloDefeituoso2\")\n",
        "testar(TrianguloDefeituoso2.TipoTriangulo, testes)"
      ],
      "metadata": {
        "colab": {
          "base_uri": "https://localhost:8080/"
        },
        "id": "Ix9fN7ZylAkQ",
        "outputId": "837ff838-9ca2-40f3-94a9-de1926ec7e64"
      },
      "execution_count": null,
      "outputs": [
        {
          "output_type": "stream",
          "name": "stdout",
          "text": [
            "TrianguloDefeituoso2\n",
            "✅ Teste 1: [1, 1, 1] == equilatero \n",
            "✅ Teste 2: [1, 1, 2] == invalido \n",
            "✅ Teste 3: [3, 3, 2] == isosceles \n",
            "✅ Teste 4: [2, 3, 3] == isosceles \n",
            "✅ Teste 5: [3, 2, 3] == isosceles \n",
            "✅ Teste 6: [2, 4, 5] == escaleno \n",
            "✅ Teste 7: [4, 2, 5] == escaleno \n",
            "✅ Teste 8: [5, 2, 4] == escaleno \n",
            "✅ Teste 9: [5, 4, 2] == escaleno \n",
            "✅ Teste 10: [2, 5, 4] == escaleno \n",
            "✅ Teste 11: [4, 5, 2] == escaleno \n",
            "✅ Teste 12: [0, 1, 2] == invalido \n",
            "✅ Teste 13: [-2, 4, 5] == invalido \n"
          ]
        }
      ]
    },
    {
      "cell_type": "code",
      "source": [
        "print(\"TrianguloDefeituoso3\")\n",
        "testar(TrianguloDefeituoso3.TipoTriangulo, testes)"
      ],
      "metadata": {
        "colab": {
          "base_uri": "https://localhost:8080/"
        },
        "id": "fiZNr4F4lBdn",
        "outputId": "6a887c62-7560-4193-e6cc-5a25086b9491"
      },
      "execution_count": null,
      "outputs": [
        {
          "output_type": "stream",
          "name": "stdout",
          "text": [
            "TrianguloDefeituoso3\n",
            "✅ Teste 1: [1, 1, 1] == equilatero \n",
            "✅ Teste 2: [1, 1, 2] == invalido \n",
            "✅ Teste 3: [3, 3, 2] == isosceles \n",
            "✅ Teste 4: [2, 3, 3] == isosceles \n",
            "✅ Teste 5: [3, 2, 3] == isosceles \n",
            "✅ Teste 6: [2, 4, 5] == escaleno \n",
            "✅ Teste 7: [4, 2, 5] == escaleno \n",
            "✅ Teste 8: [5, 2, 4] == escaleno \n",
            "✅ Teste 9: [5, 4, 2] == escaleno \n",
            "✅ Teste 10: [2, 5, 4] == escaleno \n",
            "✅ Teste 11: [4, 5, 2] == escaleno \n",
            "✅ Teste 12: [0, 1, 2] == invalido \n",
            "✅ Teste 13: [-2, 4, 5] == invalido \n"
          ]
        }
      ]
    }
  ]
}