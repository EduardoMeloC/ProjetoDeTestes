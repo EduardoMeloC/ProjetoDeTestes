{
 "cells": [
  {
   "cell_type": "markdown",
   "metadata": {},
   "source": [
    "### Trocas usando operador de mutação - ABS (inserção de valor absoluto)\n",
    "Os locais onde as possíveis mutações de ABS podem ser feitas foram destacadas.\n",
    "\n",
    "Para cada local destacado, são 3 possíveis alterações:\n",
    "- m1: a -> abs(a)\n",
    "- m2: a -> -abs(a)\n",
    "- m3: a -> failOnZero(a)\n",
    "\n",
    "class TrianguloDefeituoso1: <br/>\n",
    "&emsp;  def TipoTriangulo(a,b,c): <br/>\n",
    "&emsp;&emsp; if (**a** <= 0 or **b** <= 0 or **c** <= 0): <br/>\n",
    "&emsp;&emsp;&emsp;          return \"invalido\" <br/>\n",
    "&emsp;&emsp;      if (**a** + **b** >= **c** and **a** + **c** >= **b** and **b** + **c** >= **a**): <br/>\n",
    "&emsp;&emsp;&emsp;          if (**a** == **b** and **b** == **c**): <br/>\n",
    "&emsp;&emsp;&emsp;&emsp;              return \"equilatero\" <br/>\n",
    "&emsp;&emsp;&emsp;          if (**a** == **b** or **a** == **c** or **b** == **c**): <br/>\n",
    "&emsp;&emsp;&emsp;&emsp;              return \"isosceles\" <br/>\n",
    "&emsp;&emsp;&emsp;          return \"escaleno\" <br/>\n",
    "&emsp;&emsp;      return \"invalido\" <br/>"
   ]
  },
  {
   "attachments": {},
   "cell_type": "markdown",
   "metadata": {},
   "source": [
    "### Trocas de mutação - AOR (substituição de operador aritmético)\n",
    "Os locais onde as possíveis mutações de AOR podem ser feitas foram destacadas.\n",
    "\n",
    "Para cada local destacado, são 7 possíveis alterações:\n",
    "- m1: a + b -> a - b\n",
    "- m2: a + b -> a * b\n",
    "- m3: a + b -> a / b\n",
    "- m4: a + b -> a % b\n",
    "- m5: a + b -> a ** b\n",
    "- m6: a + b -> a \n",
    "- m7: a + b -> b\n",
    "\n",
    "class TrianguloDefeituoso1: <br/>\n",
    "&emsp;  def TipoTriangulo(a,b,c): <br/>\n",
    "&emsp;&emsp; if (a <= 0 or b <= 0 or c <= 0): <br/>\n",
    "&emsp;&emsp;&emsp;          return \"invalido\" <br/>\n",
    "&emsp;&emsp;      if (**a + b** >= c and **a + c** >= b and **b + c** >= a): <br/>\n",
    "&emsp;&emsp;&emsp;          if (a == b and b == c): <br/>\n",
    "&emsp;&emsp;&emsp;&emsp;              return \"equilatero\" <br/>\n",
    "&emsp;&emsp;&emsp;          if (a == b or a == c or b == c): <br/>\n",
    "&emsp;&emsp;&emsp;&emsp;              return \"isosceles\" <br/>\n",
    "&emsp;&emsp;&emsp;          return \"escaleno\" <br/>\n",
    "&emsp;&emsp;      return \"invalido\" <br/>\n"
   ]
  },
  {
   "attachments": {},
   "cell_type": "markdown",
   "metadata": {},
   "source": [
    "### Trocas usando operador de mutação - UOI (inserção de operador unário)\n",
    "Os locais onde as possíveis mutações de UOI podem ser feitas foram destacadas.\n",
    "\n",
    "Para cada local destacado, existem 2 possíveis alterações:\n",
    "- m1: a -> -a\n",
    "- m2: a -> +a\n",
    "\n",
    "class TrianguloDefeituoso1: <br/>\n",
    "&emsp;  def TipoTriangulo(a,b,c): <br/>\n",
    "&emsp;&emsp; if (**a** <= 0 or **b** <= 0 or **c** <= 0): <br/>\n",
    "&emsp;&emsp;&emsp;          return \"invalido\" <br/>\n",
    "&emsp;&emsp;      if (**a** + **b** >= **c** and **a** + **c** >= **b** and **b** + **c** >= **a**): <br/>\n",
    "&emsp;&emsp;&emsp;          if (**a** == **b** and **b** == **c**): <br/>\n",
    "&emsp;&emsp;&emsp;&emsp;              return \"equilatero\" <br/>\n",
    "&emsp;&emsp;&emsp;          if (**a** == **b** or **a** == **c** or **b** == **c**): <br/>\n",
    "&emsp;&emsp;&emsp;&emsp;              return \"isosceles\" <br/>\n",
    "&emsp;&emsp;&emsp;          return \"escaleno\" <br/>\n",
    "&emsp;&emsp;      return \"invalido\" <br/>"
   ]
  },
  {
   "cell_type": "markdown",
   "metadata": {},
   "source": [
    "### Trocas de mutação - SVR (substituição de variável escalar)\n",
    "\n",
    "Os locais onde as possíveis mutações de SVR podem ser feitas foram destacadas.\n",
    "\n",
    "Para cada local destacado, são possíveis as seguintes alterações:\n",
    "- m1: a + b -> a + a\n",
    "- m2: a + b -> b + b\n",
    "- m3: a + b -> a + x\n",
    "- m4: a + b -> x + b\n",
    "- m5: x = a + b -> a = a + b\n",
    "- m6: x = a + b -> b = a + b\n",
    "\n",
    "class TrianguloDefeituoso1: <br/>\n",
    "&emsp;  def TipoTriangulo(a,b,c): <br/>\n",
    "&emsp;&emsp; if (a <= 0 or b <= 0 or c <= 0): <br/>\n",
    "&emsp;&emsp;&emsp;          return \"invalido\" <br/>\n",
    "&emsp;&emsp;      if (**a + b** >= c and **a + c** >= b and **b + c** >= a): <br/>\n",
    "&emsp;&emsp;&emsp;          if (a == b and b == c): <br/>\n",
    "&emsp;&emsp;&emsp;&emsp;              return \"equilatero\" <br/>\n",
    "&emsp;&emsp;&emsp;          if (a == b or a == c or b == c): <br/>\n",
    "&emsp;&emsp;&emsp;&emsp;              return \"isosceles\" <br/>\n",
    "&emsp;&emsp;&emsp;          return \"escaleno\" <br/>\n",
    "&emsp;&emsp;      return \"invalido\" <br/>\n"
   ]
  },
  {
   "cell_type": "markdown",
   "metadata": {},
   "source": [
    "### Trocas de mutação - BSR (substituição de comando bomba)\n",
    "Os locais onde as possíveis mutações de AOR podem ser feitas foram destacadas.\n",
    "\n",
    "Para cada local destacado, é possível apenas 1 alteração:\n",
    "- m1: qualquer comando -> Bomb()\n",
    "\n",
    "class TrianguloDefeituoso1: <br/>\n",
    "&emsp;  def TipoTriangulo(a,b,c): <br/>\n",
    "&emsp;&emsp; if (a <= 0 or b <= 0 or c <= 0): <br/>\n",
    "&emsp;&emsp;&emsp;          **return \"invalido\"** <br/>\n",
    "&emsp;&emsp;      if (a + b >= c and a + c >= b and b + c >= a): <br/>\n",
    "&emsp;&emsp;&emsp;          if (a == b and b == c): <br/>\n",
    "&emsp;&emsp;&emsp;&emsp;              **return \"equilatero\"** <br/>\n",
    "&emsp;&emsp;&emsp;          if (a == b or a == c or b == c): <br/>\n",
    "&emsp;&emsp;&emsp;&emsp;              **return \"isosceles\"** <br/>\n",
    "&emsp;&emsp;&emsp;          **return \"escaleno\"** <br/>"
   ]
  },
  {
   "attachments": {},
   "cell_type": "markdown",
   "metadata": {},
   "source": [
    "### Trocas usando operador de mutação - UOD (deleção de operador unário)\n",
    "Os locais onde as possíveis mutações de UOD podem ser feitas foram destacadas.\n",
    "\n",
    "Para cada local destacado, existe 1 possível alteração:\n",
    "- m1: if(a > b) -> if !(a > b)\n",
    "\n",
    "Para cada expressão, é possível ainda considerar todas as combinações de negação.\n",
    "\n",
    "class TrianguloDefeituoso1: <br/>\n",
    "&emsp;  def TipoTriangulo(a,b,c): <br/>\n",
    "&emsp;&emsp; if (**a <= 0 or b <= 0 or c <= 0**): <br/>\n",
    "&emsp;&emsp;&emsp;          return \"invalido\" <br/>\n",
    "&emsp;&emsp;      if (**a + b >= c and a + c >= b and b + c >= a**): <br/>\n",
    "&emsp;&emsp;&emsp;          if (**a == b and b == c**): <br/>\n",
    "&emsp;&emsp;&emsp;&emsp;              return \"equilatero\" <br/>\n",
    "&emsp;&emsp;&emsp;          if (**a == b or a == c or b == c**): <br/>\n",
    "&emsp;&emsp;&emsp;&emsp;              return \"isosceles\" <br/>\n",
    "&emsp;&emsp;&emsp;          return \"escaleno\" <br/>\n",
    "&emsp;&emsp;      return \"invalido\" <br/>"
   ]
  },
  {
   "attachments": {},
   "cell_type": "markdown",
   "metadata": {},
   "source": [
    "### Trocas usando operador de mutação - ROR (substituição de operador relacional)\n",
    "Os locais onde as possíveis mutações de ROR podem ser feitas foram destacadas.\n",
    "\n",
    "Dado um operador OP = {and, or}, para cada local destacado, são são 8 possíveis alterações:\n",
    "- m1: (m OP n) -> (m > n)\n",
    "- m2: (m OP n) -> (m >= n)\n",
    "- m3: (m OP n) -> (m < n)\n",
    "- m4: (m OP n) -> (m <= n)\n",
    "- m5: (m OP n) -> (m == n)\n",
    "- m6: (m OP n) -> (m != n)\n",
    "- m7: (m OP n) -> (false)\n",
    "- m8: (m OP n) -> (true)\n",
    "\n",
    "class TrianguloDefeituoso1: <br/>\n",
    "&emsp;  def TipoTriangulo(a,b,c): <br/>\n",
    "&emsp;&emsp; if (a **<=** 0 or b **<=** 0 or c **<=** 0): <br/>\n",
    "&emsp;&emsp;&emsp;          return \"invalido\" <br/>\n",
    "&emsp;&emsp;      if (a + b **>=** c and a + c **>=** b and b + c **>=** a): <br/>\n",
    "&emsp;&emsp;&emsp;          if (a **==** b and b **==** c): <br/>\n",
    "&emsp;&emsp;&emsp;&emsp;              return \"equilatero\" <br/>\n",
    "&emsp;&emsp;&emsp;          if (a **==** b or a **==** c or b **==** c): <br/>\n",
    "&emsp;&emsp;&emsp;&emsp;              return \"isosceles\" <br/>\n",
    "&emsp;&emsp;&emsp;          return \"escaleno\" <br/>\n",
    "&emsp;&emsp;      return \"invalido\" <br/>"
   ]
  },
  {
   "attachments": {},
   "cell_type": "markdown",
   "metadata": {},
   "source": [
    "### Trocas usando operador de mutação - COR (substituição de operador condicional)\n",
    "Os locais onde as possíveis mutações de COR podem ser feitas foram destacadas.\n",
    "\n",
    "Dado um operador OP = {and, or}, para cada local destacado, são são 6 possíveis alterações:\n",
    "- m1: (a OP b) -> (m and n)\n",
    "- m2: (a OP b) -> (m or n)\n",
    "- m3: (a OP b) -> (true)\n",
    "- m4: (a OP b) -> (false)\n",
    "- m5: (a OP b) -> (m)\n",
    "- m6: (a OP b) -> (n)\n",
    "\n",
    "class TrianguloDefeituoso1: <br/>\n",
    "&emsp;  def TipoTriangulo(a,b,c): <br/>\n",
    "&emsp;&emsp; if (a <= 0 **or** b <= 0 **or** c <= 0): <br/>\n",
    "&emsp;&emsp;&emsp;          return \"invalido\" <br/>\n",
    "&emsp;&emsp;      if (a + b >= c **and** a + c >= b **and** b + c >= a): <br/>\n",
    "&emsp;&emsp;&emsp;          if (a == b **and** b == c): <br/>\n",
    "&emsp;&emsp;&emsp;&emsp;              return \"equilatero\" <br/>\n",
    "&emsp;&emsp;&emsp;          if (a == b **or** a == c **or** b == c): <br/>\n",
    "&emsp;&emsp;&emsp;&emsp;              return \"isosceles\" <br/>\n",
    "&emsp;&emsp;&emsp;          return \"escaleno\" <br/>"
   ]
  },
  {
   "cell_type": "markdown",
   "metadata": {},
   "source": [
    "Dentre muitos outros..."
   ]
  }
 ],
 "metadata": {
  "kernelspec": {
   "display_name": "Python 3.10.7 64-bit",
   "language": "python",
   "name": "python3"
  },
  "language_info": {
   "name": "python",
   "version": "3.10.7"
  },
  "orig_nbformat": 4,
  "vscode": {
   "interpreter": {
    "hash": "8a94588eda9d64d9e9a351ab8144e55b1fabf5113b54e67dd26a8c27df0381b3"
   }
  }
 },
 "nbformat": 4,
 "nbformat_minor": 2
}
