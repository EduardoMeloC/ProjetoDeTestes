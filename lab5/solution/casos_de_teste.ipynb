{
 "cells": [
  {
   "cell_type": "code",
   "execution_count": 3,
   "metadata": {},
   "outputs": [],
   "source": [
    "def baralho2(entrada):\n",
    "    caminho = []\n",
    "\n",
    "    cartas = {'C':[], 'E':[],'U':[],'P':[]}\n",
    "    caminho.append(1)\n",
    "    for i in range(0,len(entrada),3):\n",
    "        caminho.append(2)\n",
    "        chave = entrada[i+2]\n",
    "        cartas[chave] = cartas[chave] + [int(entrada[i:i+2])]\n",
    "        caminho.append(3)\n",
    "    caminho.append(2)\n",
    "\n",
    "    caminho.append(4)\n",
    "    faltam = {'C':13,'E':13,'U':13,'P':13}\n",
    "\n",
    "    for naipe in ['C','E','U','P']:\n",
    "        caminho.append(5)\n",
    "\n",
    "        caminho.append(6)\n",
    "        for valor in range(1,13):\n",
    "            caminho.append(7)\n",
    "\n",
    "            caminho.append(8)\n",
    "            qtd = cartas[naipe].count(valor)\n",
    "            if qtd > 1:\n",
    "                caminho.append(9)\n",
    "                faltam[naipe] = 'erro'\n",
    "            elif qtd == 1 and faltam[naipe] != 'erro':\n",
    "                caminho.append(10)\n",
    "                caminho.append(11)\n",
    "                faltam[naipe] -= 1\n",
    "            else:\n",
    "                caminho.append(10)\n",
    "\n",
    "            caminho.append(12)\n",
    "\n",
    "\n",
    "        caminho.append(7)\n",
    "\n",
    "        caminho.append(13)\n",
    "\n",
    "    caminho.append(5)\n",
    "\n",
    "    caminho.append(14)\n",
    "    return [faltam['C'], faltam['E'], faltam['U'], faltam['P']], caminho\n",
    "\n",
    "\n",
    "def main():\n",
    "    entrada = input()\n",
    "    resultado =   baralho2(entrada)\n",
    "    print (resultado[0])\n",
    "    print (resultado[1])\n",
    "    print (resultado[2])\n",
    "    print (resultado[3])"
   ]
  },
  {
   "cell_type": "code",
   "execution_count": 11,
   "metadata": {},
   "outputs": [
    {
     "name": "stdout",
     "output_type": "stream",
     "text": [
      "[1, 2, 3, 2, 3, 2, 3, 2, 4, 5, 6, 7, 8, 10, 12, 7, 8, 10, 12, 7, 8, 10, 12, 7, 8, 10, 12, 7, 8, 10, 12, 7, 8, 10, 12, 7, 8, 10, 12, 7, 8, 10, 12, 7, 8, 10, 12, 7, 8, 10, 12, 7, 8, 10, 11, 12, 7, 8, 10, 12, 7, 13, 5, 6, 7, 8, 10, 12, 7, 8, 10, 12, 7, 8, 10, 12, 7, 8, 10, 12, 7, 8, 10, 12, 7, 8, 10, 12, 7, 8, 10, 12, 7, 8, 10, 12, 7, 8, 10, 12, 7, 8, 10, 12, 7, 8, 10, 12, 7, 8, 10, 12, 7, 13, 5, 6, 7, 8, 10, 12, 7, 8, 10, 12, 7, 8, 10, 12, 7, 8, 10, 12, 7, 8, 10, 12, 7, 8, 10, 12, 7, 8, 10, 12, 7, 8, 10, 12, 7, 8, 10, 12, 7, 8, 10, 12, 7, 8, 10, 12, 7, 8, 10, 12, 7, 13, 5, 6, 7, 8, 10, 12, 7, 8, 10, 12, 7, 8, 10, 12, 7, 8, 10, 12, 7, 8, 10, 12, 7, 8, 10, 12, 7, 8, 10, 12, 7, 8, 10, 12, 7, 8, 10, 12, 7, 8, 10, 12, 7, 8, 10, 12, 7, 8, 9, 12, 7, 13, 5, 14]\n"
     ]
    }
   ],
   "source": [
    "entrada1 = \"11C12P12P\"\n",
    "\n",
    "caminho = (baralho2(entrada1)[1])\n",
    "print(caminho)"
   ]
  },
  {
   "cell_type": "code",
   "execution_count": null,
   "metadata": {},
   "outputs": [],
   "source": [
    "[1, 2, 3, 2, 3, 2, 3, 2, 4, 5, 6, 7, 8, 10, 12, 7, 8, 10, 12, 7, 8, 10, 12, 7, 8, 10, 12, 7, 8, 10, 12, 7, 8, 10, 12, 7, 8, 10, 12, 7, 8, 10, 12, 7, 8, 10, 12, 7, 8, 10, 12, 7, 8, 10, 11, 12, 7, 8, 10, 12, 7, 13, 5, 6, 7, 8, 10, 12, 7, 8, 10, 12, 7, 8, 10, 12, 7, 8, 10, 12, 7, 8, 10, 12, 7, 8, 10, 12, 7, 8, 10, 12, 7, 8, 10, 12, 7, 8, 10, 12, 7, 8, 10, 12, 7, 8, 10, 12, 7, 8, 10, 12, 7, 13, 5, 6, 7, 8, 10, 12, 7, 8, 10, 12, 7, 8, 10, 12, 7, 8, 10, 12, 7, 8, 10, 12, 7, 8, 10, 12, 7, 8, 10, 12, 7, 8, 10, 12, 7, 8, 10, 12, 7, 8, 10, 12, 7, 8, 10, 12, 7, 8, 10, 12, 7, 13, 5, 6, 7, 8, 10, 12, 7, 8, 10, 12, 7, 8, 10, 12, 7, 8, 10, 12, 7, 8, 10, 12, 7, 8, 10, 12, 7, 8, 10, 12, 7, 8, 10, 12, 7, 8, 10, 12, 7, 8, 10, 12, 7, 8, 10, 12, 7, 8, 9, 12, 7, 13, 5, 14]"
   ]
  },
  {
   "cell_type": "code",
   "execution_count": null,
   "metadata": {},
   "outputs": [],
   "source": [
    "entrada2 = \"11C1\""
   ]
  }
 ],
 "metadata": {
  "kernelspec": {
   "display_name": "Python 3",
   "language": "python",
   "name": "python3"
  },
  "language_info": {
   "codemirror_mode": {
    "name": "ipython",
    "version": 3
   },
   "file_extension": ".py",
   "mimetype": "text/x-python",
   "name": "python",
   "nbconvert_exporter": "python",
   "pygments_lexer": "ipython3",
   "version": "3.10.2"
  },
  "orig_nbformat": 4
 },
 "nbformat": 4,
 "nbformat_minor": 2
}
